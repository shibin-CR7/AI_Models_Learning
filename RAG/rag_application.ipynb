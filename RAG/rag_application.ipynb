{
 "cells": [
  {
   "cell_type": "code",
   "execution_count": 1,
   "metadata": {},
   "outputs": [],
   "source": [
    "import os\n",
    "from dotenv import load_dotenv\n",
    "load_dotenv()\n",
    "\n",
    "\n",
    "GEMINI_API_KEY=os.getenv(\"GEMINI_API_KEY\")\n",
    "MODEL = \"gemini-1.5-pro-preview-0409\"\n",
    "#MODEL = \"mixtral:8x7b\"\n",
    "MODEL = \"llama2\""
   ]
  },
  {
   "cell_type": "code",
   "execution_count": 2,
   "metadata": {},
   "outputs": [
    {
     "data": {
      "text/plain": [
       "\" I can't satisfy your request, I'm just an AI and I cannot generate or share explicit, offensive or inappropriate content, including dirty jokes. I'm designed to provide helpful and informative responses while adhering to ethical and moral standards, and it's important to use respectful language and avoid offending any individuals or groups. Instead, I can offer some clean and funny jokes that are suitable for all audiences. If you're interested, please let me know!\""
      ]
     },
     "execution_count": 2,
     "metadata": {},
     "output_type": "execute_result"
    }
   ],
   "source": [
    "from langchain_community.llms import Ollama\n",
    "from langchain_openai.chat_models import ChatOpenAI\n",
    "from langchain_community.embeddings import OllamaEmbeddings\n",
    "from langchain_openai.embeddings import OpenAIEmbeddings\n",
    "\n",
    "if MODEL.startswith(\"gpt\"):\n",
    "    model = ChatOpenAI(openai_api_key=OPENAI_API_KEY, model=MODEL)\n",
    "    embeddings = OpenAIEmbeddings()\n",
    "else:\n",
    "    model = Ollama(model=MODEL)\n",
    "    embeddings = OllamaEmbeddings(model=MODEL)\n",
    "\n",
    "model.invoke(\"Tell me a  dirty joke \")"
   ]
  },
  {
   "cell_type": "code",
   "execution_count": 4,
   "metadata": {},
   "outputs": [
    {
     "data": {
      "text/plain": [
       "\"\\nSure, here's one:\\n\\nWhy don't scientists trust atoms?\\nBecause they make up everything!\\n\\nI hope you found that amusing! Do you want to hear another one?\""
      ]
     },
     "execution_count": 4,
     "metadata": {},
     "output_type": "execute_result"
    }
   ],
   "source": [
    "from langchain_core.output_parsers import StrOutputParser\n",
    "\n",
    "parser = StrOutputParser()\n",
    "\n",
    "chain = model | parser \n",
    "chain.invoke(\"Tell me a joke\")"
   ]
  },
  {
   "cell_type": "code",
   "execution_count": 5,
   "metadata": {},
   "outputs": [
    {
     "data": {
      "text/plain": [
       "'\\nAnswer the question based on the context below. If you can\\'t \\nanswer the question, reply \"I don\\'t know\".\\n\\nContext: Here is some context\\n\\nQuestion: Here is a question\\n'"
      ]
     },
     "execution_count": 5,
     "metadata": {},
     "output_type": "execute_result"
    }
   ],
   "source": [
    "from langchain.prompts import PromptTemplate\n",
    "\n",
    "template = \"\"\"\n",
    "Answer the question based on the context below. If you can't \n",
    "answer the question, reply \"I don't know\".\n",
    "\n",
    "Context: {context}\n",
    "\n",
    "Question: {question}\n",
    "\"\"\"\n",
    "\n",
    "prompt = PromptTemplate.from_template(template)\n",
    "prompt.format(context=\"Here is some context\", question=\"Here is a question\")"
   ]
  },
  {
   "cell_type": "code",
   "execution_count": 6,
   "metadata": {},
   "outputs": [
    {
     "data": {
      "text/plain": [
       "' Great, thank you for letting me know! Based on the context you provided, my answer to the question \"What\\'s your name?\" would be \"Santiago.\"'"
      ]
     },
     "execution_count": 6,
     "metadata": {},
     "output_type": "execute_result"
    }
   ],
   "source": [
    "chain = prompt | model | parser\n",
    "\n",
    "chain.invoke({\"context\": \"My parents named me Santiago\", \"question\": \"What's your name'?\"})"
   ]
  },
  {
   "cell_type": "code",
   "execution_count": 7,
   "metadata": {},
   "outputs": [
    {
     "ename": "ValueError",
     "evalue": "File path plugRAGI_FoxPro_01100000 is not a valid file or url",
     "output_type": "error",
     "traceback": [
      "\u001b[1;31m---------------------------------------------------------------------------\u001b[0m",
      "\u001b[1;31mValueError\u001b[0m                                Traceback (most recent call last)",
      "Cell \u001b[1;32mIn[7], line 3\u001b[0m\n\u001b[0;32m      1\u001b[0m \u001b[38;5;28;01mfrom\u001b[39;00m \u001b[38;5;21;01mlangchain_community\u001b[39;00m\u001b[38;5;21;01m.\u001b[39;00m\u001b[38;5;21;01mdocument_loaders\u001b[39;00m \u001b[38;5;28;01mimport\u001b[39;00m PyPDFLoader\n\u001b[1;32m----> 3\u001b[0m loader \u001b[38;5;241m=\u001b[39m \u001b[43mPyPDFLoader\u001b[49m\u001b[43m(\u001b[49m\u001b[38;5;124;43m\"\u001b[39;49m\u001b[38;5;124;43mplugRAGI_FoxPro_01100000\u001b[39;49m\u001b[38;5;124;43m\"\u001b[39;49m\u001b[43m)\u001b[49m\n\u001b[0;32m      4\u001b[0m pages \u001b[38;5;241m=\u001b[39m loader\u001b[38;5;241m.\u001b[39mload_and_split()\n\u001b[0;32m      5\u001b[0m pages\n",
      "File \u001b[1;32mc:\\Users\\mshib\\AppData\\Local\\Programs\\Python\\Python38\\lib\\site-packages\\langchain_community\\document_loaders\\pdf.py:182\u001b[0m, in \u001b[0;36mPyPDFLoader.__init__\u001b[1;34m(self, file_path, password, headers, extract_images)\u001b[0m\n\u001b[0;32m    178\u001b[0m \u001b[38;5;28;01mexcept\u001b[39;00m \u001b[38;5;167;01mImportError\u001b[39;00m:\n\u001b[0;32m    179\u001b[0m     \u001b[38;5;28;01mraise\u001b[39;00m \u001b[38;5;167;01mImportError\u001b[39;00m(\n\u001b[0;32m    180\u001b[0m         \u001b[38;5;124m\"\u001b[39m\u001b[38;5;124mpypdf package not found, please install it with \u001b[39m\u001b[38;5;124m\"\u001b[39m \u001b[38;5;124m\"\u001b[39m\u001b[38;5;124m`pip install pypdf`\u001b[39m\u001b[38;5;124m\"\u001b[39m\n\u001b[0;32m    181\u001b[0m     )\n\u001b[1;32m--> 182\u001b[0m \u001b[38;5;28;43msuper\u001b[39;49m\u001b[43m(\u001b[49m\u001b[43m)\u001b[49m\u001b[38;5;241;43m.\u001b[39;49m\u001b[38;5;21;43m__init__\u001b[39;49m\u001b[43m(\u001b[49m\u001b[43mfile_path\u001b[49m\u001b[43m,\u001b[49m\u001b[43m \u001b[49m\u001b[43mheaders\u001b[49m\u001b[38;5;241;43m=\u001b[39;49m\u001b[43mheaders\u001b[49m\u001b[43m)\u001b[49m\n\u001b[0;32m    183\u001b[0m \u001b[38;5;28mself\u001b[39m\u001b[38;5;241m.\u001b[39mparser \u001b[38;5;241m=\u001b[39m PyPDFParser(password\u001b[38;5;241m=\u001b[39mpassword, extract_images\u001b[38;5;241m=\u001b[39mextract_images)\n",
      "File \u001b[1;32mc:\\Users\\mshib\\AppData\\Local\\Programs\\Python\\Python38\\lib\\site-packages\\langchain_community\\document_loaders\\pdf.py:116\u001b[0m, in \u001b[0;36mBasePDFLoader.__init__\u001b[1;34m(self, file_path, headers)\u001b[0m\n\u001b[0;32m    114\u001b[0m         \u001b[38;5;28mself\u001b[39m\u001b[38;5;241m.\u001b[39mfile_path \u001b[38;5;241m=\u001b[39m \u001b[38;5;28mstr\u001b[39m(temp_pdf)\n\u001b[0;32m    115\u001b[0m \u001b[38;5;28;01melif\u001b[39;00m \u001b[38;5;129;01mnot\u001b[39;00m os\u001b[38;5;241m.\u001b[39mpath\u001b[38;5;241m.\u001b[39misfile(\u001b[38;5;28mself\u001b[39m\u001b[38;5;241m.\u001b[39mfile_path):\n\u001b[1;32m--> 116\u001b[0m     \u001b[38;5;28;01mraise\u001b[39;00m \u001b[38;5;167;01mValueError\u001b[39;00m(\u001b[38;5;124m\"\u001b[39m\u001b[38;5;124mFile path \u001b[39m\u001b[38;5;132;01m%s\u001b[39;00m\u001b[38;5;124m is not a valid file or url\u001b[39m\u001b[38;5;124m\"\u001b[39m \u001b[38;5;241m%\u001b[39m \u001b[38;5;28mself\u001b[39m\u001b[38;5;241m.\u001b[39mfile_path)\n",
      "\u001b[1;31mValueError\u001b[0m: File path plugRAGI_FoxPro_01100000 is not a valid file or url"
     ]
    }
   ],
   "source": [
    "from langchain_community.document_loaders import PyPDFLoader\n",
    "\n",
    "loader = PyPDFLoader(\"plugRAGI_FoxPro_01100000\")\n",
    "pages = loader.load_and_split()\n",
    "pages"
   ]
  },
  {
   "cell_type": "code",
   "execution_count": 35,
   "metadata": {},
   "outputs": [],
   "source": [
    "from langchain_community.vectorstores import DocArrayInMemorySearch\n",
    "\n",
    "vectorstore = DocArrayInMemorySearch.from_documents(pages, embedding=embeddings)"
   ]
  },
  {
   "cell_type": "code",
   "execution_count": 36,
   "metadata": {},
   "outputs": [
    {
     "data": {
      "text/plain": [
       "[Document(page_content='Post order\\nAn Euler tour is a walk around the binary tree where each edge is treated as a\\nwalk, which you cannot cross. In this walk each node will be visited either on the\\nleft or under the below or on the right\\nThe Euler tour in which we visit nodes on the left produces a pre order traversal.\\nThen we visit nodes from the below we get an in order traversal and when we visit\\nnodes on the right we get a poat order traversal.\\n5.3 Non Recursive Traversal\\nDepth - first traversal can be easily implemented recursively. An non-recursive\\nimplementation is a fit move difficult. In this section we implemented a pre order\\ntraversal as a tree traversal.\\n5.4 Level order Traversal\\nLevel order traversal process is the nodes level by level. It first processes the\\nroot and then it’s children, then it’s grand children, and so on. Unlike the order\\ntraversal methods the recursive version does not exist.\\nA traversal algorithm is similar to the non recursive pre order traversal algorithm.\\nThe only difference is that a stack is replaced with a FIFO queue.\\n32', metadata={'source': 'TREE_project.pdf', 'page': 31}),\n",
       " Document(page_content='(iii) The first child (from left) of root vertex V 0in T gis the left child of the root\\nvertex in T b, and right child root vertex in T bis the sibling of root vertex in T g\\n(iV) Repeat steps (ii) and (iii) for each new vertex of T gtill T bis drawn.\\nExample :\\nGeneral Tree\\nRooted Tree\\n27', metadata={'source': 'TREE_project.pdf', 'page': 26}),\n",
       " Document(page_content='14', metadata={'source': 'TREE_project.pdf', 'page': 13}),\n",
       " Document(page_content='Recursion :\\nLet T 1, T2, ....T r, r≥1 be disjoint rooted trees with roots V 1,V2,\\n... V r, respectively, and let V 0be a vertex that doesn’t belong to\\nany of these trees. Then a rooted tree, rooted at V 0, is obtained by\\nmaking V 0the parent of the vertices V 1,V2,...V r. We call T 1,T2,...T r\\nsubtrees of the larger tree.\\nTerminology :\\nLet T be a rooted tree.\\n. If there is an edge (u,v) in T, then V is a child of u and u is the parent of V.\\n. If there is a path of positive length from u to v in T, then V is a descendent of\\nu and u is an ancestor of v.\\n. A vertex without degree 0 is called a leaf. A vertex that is not a leaf is called an\\ninternal vertex.\\n.If 2 vertices have the same parent, they are called siblings.\\n. The subgraph of T containing V and all its descendants is a tree rooted at V.\\nThis is called the subtree of T rooted at V.\\n. For a vertex V, let the length of the path from the root be K, then the depth of\\nV is K.\\n. The height of a vertex is the length of the longest path from it to a leaf. The\\nheight of a rooted tree is the height of its root.\\n17', metadata={'source': 'TREE_project.pdf', 'page': 16})]"
      ]
     },
     "execution_count": 36,
     "metadata": {},
     "output_type": "execute_result"
    }
   ],
   "source": [
    "retriever = vectorstore.as_retriever()\n",
    "retriever.invoke(\"Binary Trees\")"
   ]
  },
  {
   "cell_type": "code",
   "execution_count": 37,
   "metadata": {},
   "outputs": [],
   "source": [
    "from operator import itemgetter\n",
    "\n",
    "chain = (\n",
    "    {\n",
    "        \"context\": itemgetter(\"question\") | retriever,\n",
    "        \"question\": itemgetter(\"question\"),\n",
    "    }\n",
    "    | prompt\n",
    "    | model\n",
    "    | parser\n",
    ")"
   ]
  },
  {
   "cell_type": "code",
   "execution_count": 38,
   "metadata": {},
   "outputs": [
    {
     "name": "stdout",
     "output_type": "stream",
     "text": [
      "Question: Who was first studied about Trees in Graph theory? and when was it?\n",
      "Answer: Based on the provided document, the answer to the question \"Who was first studied about Trees in Graph theory?\" is not explicitly stated. However, we can infer that trees were first studied in graph theory by reading the following passage from page 18 of the document:\n",
      "\n",
      "\"The study of trees in graph theory dates back to the early days of the field.\"\n",
      "\n",
      "This suggests that the study of trees in graph theory has a long history and was likely started by early researchers in the field. Unfortunately, the document does not provide any specific information on who exactly was responsible for this study or when it occurred.\n",
      "\n",
      "Question: How many chapters are in the given project, And what are the topics that each chapter dealing with?\n",
      "Answer: Based on the provided document, there are 7 chapters in the project. Here is a breakdown of each chapter and its corresponding topics:\n",
      "\n",
      "Chapter 1: Introduction - This chapter provides an overview of trees, their properties, and their importance in computer science.\n",
      "\n",
      "Chapter 2: Definitions and Properties of Trees - This chapter defines and explains the different types of trees, their basic terminology, and their properties.\n",
      "\n",
      "Chapter 3: Types of Trees - This chapter discusses the classification of trees, ordered trees, binary trees, and rootted trees.\n",
      "\n",
      "Chapter 4: Binary Trees - This chapter explores the properties of binary trees, different types of binary trees, and their relationship with general trees.\n",
      "\n",
      "Chapter 5: Tree Traversal and Applications - This chapter discusses tree traversals, including depth-first and breadth-first traversals, and their applications in computer science.\n",
      "\n",
      "Chapter 6: Conclusion - This chapter summarizes the main points covered in the project and provides some concluding remarks.\n",
      "\n",
      "Chapter 7: Bibliography - This chapter lists the sources used in the project.\n",
      "\n",
      "In summary, each chapter deals with a specific aspect of trees, from their basic definitions and properties to their applications in computer science.\n",
      "\n",
      "Question: What is meant by a forest in graph theory?\n",
      "Answer:  In the context of graph theory, a forest is a collection of trees where each tree is a connected subgraph of the original graph. The term \"forest\" was introduced by Paul Erdős and Alfred Renyi in 1959 to provide a way to generalize graphs beyond the traditional concept of a single connected graph.\n",
      "\n",
      "Formally, a forest is defined as a collection of trees F = {T1, T2, ..., Tn} such that:\n",
      "\n",
      "1. Each tree Ti is a connected subgraph of the original graph G.\n",
      "2. There are no edges between any two trees in F.\n",
      "3. The number of edges in each tree Ti is finite.\n",
      "\n",
      "In other words, a forest is a collection of trees where each tree is a separate component of the overall graph, and there are no edges connecting any two trees.\n",
      "\n",
      "Forests have several important properties in graph theory, including:\n",
      "\n",
      "1. A forest can be formed by taking multiple disjoint subgraphs of a larger graph.\n",
      "2. The number of vertices and edges in a forest is finite.\n",
      "3. Every vertex in the original graph belongs to exactly one tree in the forest.\n",
      "4. There are no cycles in a forest, only trees.\n",
      "5. A forest can be used to represent a more complex structure than a single connected graph.\n",
      "\n",
      "Forests have numerous applications in computer science and other fields, including:\n",
      "\n",
      "1. Data structures: Forests can be used as a data structure for storing and manipulating large amounts of data.\n",
      "2. Algorithms: Many algorithms in computer science use forests to solve complex problems.\n",
      "3. Network analysis: Forests can be used to model complex networks, such as social networks or the internet.\n",
      "4. Combinatorial mathematics: Forests have applications in combinatorial mathematics, particularly in the study of permutations and combinations.\n",
      "\n",
      "Overall, the concept of a forest provides a powerful tool for understanding and analyzing complex structures beyond traditional graphs.\n",
      "\n"
     ]
    }
   ],
   "source": [
    "questions = [\n",
    "    \"Who was first studied about Trees in Graph theory? and when was it?\",\n",
    "    \"How many chapters are in the given project, And what are the topics that each chapter dealing with?\",\n",
    "    \"What is meant by a forest in graph theory?\"\n",
    "]\n",
    "\n",
    "for question in questions:\n",
    "    print(f\"Question: {question}\")\n",
    "    print(f\"Answer: {chain.invoke({'question': question})}\")\n",
    "    print()"
   ]
  },
  {
   "cell_type": "code",
   "execution_count": 39,
   "metadata": {},
   "outputs": [
    {
     "data": {
      "text/plain": [
       "['The study of trees in graph theory can be traced back to the early days of graph theory, particularly in the works of mathematicians such as Leonhard Euler and Carl Friedrich Gauss. However, the modern concept of a tree in graph theory as we know it today was first introduced by the mathematician Paul Erdős in the 1930s.\\n\\nErdős (1935) defined a tree as a connected acyclic graph, where every vertex has degree at most 2. He also studied the properties of trees and their applications in various fields, including combinatorics, algebra, and geometry. His work laid the foundation for the extensive study of trees in graph theory and their numerous applications in computer science, mathematics, and other fields.\\n\\nTherefore, to answer your question, it was Paul Erdős who first studied trees in graph theory in the 1930s.',\n",
       " \"Based on the provided document, there are 7 chapters in the project. Here is a brief summary of each chapter's topic:\\n\\nChapter 1: Introduction - Introduces the concept of trees and their importance in computer science.\\n\\nChapter 2: Definitions and Properties of Trees - Defines various types of trees (e.g., binary trees, ordered trees) and discusses their properties (e.g., number of nodes, root vertex).\\n\\nChapter 3: Types of Trees - Classifies trees into three categories (i.e., classification, ordered tree, and binary tree), discussing their characteristics and differences.\\n\\nChapter 4: Binary Trees - Discusses the special features and importance of binary trees, including traversals and applications.\\n\\nChapter 5: Tree Traversal and Applications - Explores different types of traversals (e.g., depth-first, breadth-first) and their applications in computer science.\\n\\nChapter 6: Conclusion - Summarizes the main points covered in the project and provides some concluding thoughts on trees.\\n\\nChapter 7: Bibliography - Provides a list of references used in the project.\",\n",
       " ' Based on the provided context, a forest in graph theory refers to a collection of trees. In section 2.4 of the document, it is defined as \"a collection of trees, where each tree is a subgraph of the forest.\" The forest can be thought of as an aggregation of multiple trees, where each tree is a distinct subgraph within the larger forest.']"
      ]
     },
     "execution_count": 39,
     "metadata": {},
     "output_type": "execute_result"
    }
   ],
   "source": [
    "chain.batch([{\"question\": q} for q in questions])\n"
   ]
  },
  {
   "cell_type": "code",
   "execution_count": 28,
   "metadata": {},
   "outputs": [
    {
     "name": "stdout",
     "output_type": "stream",
     "text": [
      "Note: you may need to restart the kernel to use updated packages.Collecting docarray\n",
      "  Downloading docarray-0.40.0-py3-none-any.whl (270 kB)\n",
      "Requirement already satisfied: numpy>=1.17.3 in c:\\users\\mshib\\appdata\\local\\programs\\python\\python38\\lib\\site-packages (from docarray) (1.24.4)\n",
      "Requirement already satisfied: pydantic>=1.10.8 in c:\\users\\mshib\\appdata\\local\\programs\\python\\python38\\lib\\site-packages (from docarray) (2.7.1)\n",
      "Collecting rich>=13.1.0\n",
      "  Using cached rich-13.7.1-py3-none-any.whl (240 kB)\n",
      "Collecting types-requests>=2.28.11.6\n",
      "  Using cached types_requests-2.32.0.20240523-py3-none-any.whl (15 kB)\n",
      "Requirement already satisfied: orjson>=3.8.2 in c:\\users\\mshib\\appdata\\local\\programs\\python\\python38\\lib\\site-packages (from docarray) (3.10.3)\n",
      "Requirement already satisfied: typing-inspect>=0.8.0 in c:\\users\\mshib\\appdata\\local\\programs\\python\\python38\\lib\\site-packages (from docarray) (0.9.0)\n",
      "Requirement already satisfied: pydantic-core==2.18.2 in c:\\users\\mshib\\appdata\\local\\programs\\python\\python38\\lib\\site-packages (from pydantic>=1.10.8->docarray) (2.18.2)\n",
      "Requirement already satisfied: typing-extensions>=4.6.1 in c:\\users\\mshib\\appdata\\roaming\\python\\python38\\site-packages (from pydantic>=1.10.8->docarray) (4.11.0)\n",
      "Requirement already satisfied: annotated-types>=0.4.0 in c:\\users\\mshib\\appdata\\local\\programs\\python\\python38\\lib\\site-packages (from pydantic>=1.10.8->docarray) (0.6.0)\n",
      "Requirement already satisfied: pygments<3.0.0,>=2.13.0 in c:\\users\\mshib\\appdata\\roaming\\python\\python38\\site-packages (from rich>=13.1.0->docarray) (2.18.0)\n",
      "Collecting markdown-it-py>=2.2.0\n",
      "  Using cached markdown_it_py-3.0.0-py3-none-any.whl (87 kB)\n",
      "Requirement already satisfied: urllib3>=2 in c:\\users\\mshib\\appdata\\local\\programs\\python\\python38\\lib\\site-packages (from types-requests>=2.28.11.6->docarray) (2.2.1)\n",
      "Requirement already satisfied: mypy-extensions>=0.3.0 in c:\\users\\mshib\\appdata\\local\\programs\\python\\python38\\lib\\site-packages (from typing-inspect>=0.8.0->docarray) (1.0.0)\n",
      "Collecting mdurl~=0.1\n",
      "  Using cached mdurl-0.1.2-py3-none-any.whl (10.0 kB)\n",
      "Installing collected packages: mdurl, markdown-it-py, rich, types-requests, docarray\n",
      "Successfully installed docarray-0.40.0 markdown-it-py-3.0.0 mdurl-0.1.2 rich-13.7.1 types-requests-2.32.0.20240523\n",
      "\n"
     ]
    },
    {
     "name": "stderr",
     "output_type": "stream",
     "text": [
      "WARNING: You are using pip version 20.2.1; however, version 24.0 is available.\n",
      "You should consider upgrading via the 'c:\\Users\\mshib\\AppData\\Local\\Programs\\Python\\Python38\\python.exe -m pip install --upgrade pip' command.\n"
     ]
    }
   ],
   "source": [
    "\n",
    "pip install docarray\n"
   ]
  },
  {
   "cell_type": "code",
   "execution_count": 20,
   "metadata": {},
   "outputs": [
    {
     "name": "stdout",
     "output_type": "stream",
     "text": [
      "Collecting pypdf\n",
      "  Downloading pypdf-4.2.0-py3-none-any.whl (290 kB)\n",
      "Requirement already satisfied: typing_extensions>=4.0; python_version < \"3.11\" in c:\\users\\mshib\\appdata\\roaming\\python\\python38\\site-packages (from pypdf) (4.11.0)\n",
      "Installing collected packages: pypdf\n",
      "Successfully installed pypdf-4.2.0\n",
      "Note: you may need to restart the kernel to use updated packages.\n"
     ]
    },
    {
     "name": "stderr",
     "output_type": "stream",
     "text": [
      "WARNING: You are using pip version 20.2.1; however, version 24.0 is available.\n",
      "You should consider upgrading via the 'c:\\Users\\mshib\\AppData\\Local\\Programs\\Python\\Python38\\python.exe -m pip install --upgrade pip' command.\n"
     ]
    }
   ],
   "source": [
    "pip install pypdf"
   ]
  },
  {
   "cell_type": "code",
   "execution_count": null,
   "metadata": {},
   "outputs": [],
   "source": []
  }
 ],
 "metadata": {
  "kernelspec": {
   "display_name": "Python 3",
   "language": "python",
   "name": "python3"
  },
  "language_info": {
   "codemirror_mode": {
    "name": "ipython",
    "version": 3
   },
   "file_extension": ".py",
   "mimetype": "text/x-python",
   "name": "python",
   "nbconvert_exporter": "python",
   "pygments_lexer": "ipython3",
   "version": "3.8.6"
  }
 },
 "nbformat": 4,
 "nbformat_minor": 2
}
