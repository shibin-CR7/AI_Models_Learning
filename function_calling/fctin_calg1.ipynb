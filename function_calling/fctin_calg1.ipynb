{
 "cells": [
  {
   "cell_type": "code",
   "execution_count": 1,
   "metadata": {},
   "outputs": [],
   "source": [
    "import requests\n",
    "import genai\n",
    "\n"
   ]
  },
  {
   "cell_type": "code",
   "execution_count": 2,
   "metadata": {},
   "outputs": [
    {
     "ename": "AttributeError",
     "evalue": "module 'genai' has no attribute 'get_gpt_transformer'",
     "output_type": "error",
     "traceback": [
      "\u001b[1;31m---------------------------------------------------------------------------\u001b[0m",
      "\u001b[1;31mAttributeError\u001b[0m                            Traceback (most recent call last)",
      "Cell \u001b[1;32mIn[2], line 19\u001b[0m\n\u001b[0;32m     12\u001b[0m function_declaration \u001b[38;5;241m=\u001b[39m {\n\u001b[0;32m     13\u001b[0m     \u001b[38;5;124m\"\u001b[39m\u001b[38;5;124mname\u001b[39m\u001b[38;5;124m\"\u001b[39m: \u001b[38;5;124m\"\u001b[39m\u001b[38;5;124mget_trivia_answer\u001b[39m\u001b[38;5;124m\"\u001b[39m,\n\u001b[0;32m     14\u001b[0m     \u001b[38;5;124m\"\u001b[39m\u001b[38;5;124marguments\u001b[39m\u001b[38;5;124m\"\u001b[39m: [{\u001b[38;5;124m\"\u001b[39m\u001b[38;5;124mname\u001b[39m\u001b[38;5;124m\"\u001b[39m: \u001b[38;5;124m\"\u001b[39m\u001b[38;5;124mquestion\u001b[39m\u001b[38;5;124m\"\u001b[39m, \u001b[38;5;124m\"\u001b[39m\u001b[38;5;124mtype\u001b[39m\u001b[38;5;124m\"\u001b[39m: \u001b[38;5;124m\"\u001b[39m\u001b[38;5;124mstr\u001b[39m\u001b[38;5;124m\"\u001b[39m}],\n\u001b[0;32m     15\u001b[0m     \u001b[38;5;124m\"\u001b[39m\u001b[38;5;124mreturn_type\u001b[39m\u001b[38;5;124m\"\u001b[39m: {\u001b[38;5;124m\"\u001b[39m\u001b[38;5;124mtype\u001b[39m\u001b[38;5;124m\"\u001b[39m: \u001b[38;5;124m\"\u001b[39m\u001b[38;5;124mstr\u001b[39m\u001b[38;5;124m\"\u001b[39m},\n\u001b[0;32m     16\u001b[0m }\n\u001b[0;32m     18\u001b[0m \u001b[38;5;66;03m# Initialize model (replace model name if necessary)\u001b[39;00m\n\u001b[1;32m---> 19\u001b[0m model \u001b[38;5;241m=\u001b[39m \u001b[43mgenai\u001b[49m\u001b[38;5;241;43m.\u001b[39;49m\u001b[43mget_gpt_transformer\u001b[49m(\u001b[38;5;124m\"\u001b[39m\u001b[38;5;124mgemini-1.5-flash\u001b[39m\u001b[38;5;124m\"\u001b[39m)  \u001b[38;5;66;03m# Replace with actual model name\u001b[39;00m\n\u001b[0;32m     21\u001b[0m prompt \u001b[38;5;241m=\u001b[39m \u001b[38;5;124m\"\u001b[39m\u001b[38;5;124mWhat is the capital of France?\u001b[39m\u001b[38;5;124m\"\u001b[39m  \u001b[38;5;66;03m# Replace with user question\u001b[39;00m\n\u001b[0;32m     22\u001b[0m prompt \u001b[38;5;241m+\u001b[39m\u001b[38;5;241m=\u001b[39m \u001b[38;5;124m\"\u001b[39m\u001b[38;5;124m Answer: \u001b[39m\u001b[38;5;124m{{\u001b[39m\u001b[38;5;124mget_trivia_answer(question=\u001b[39m\u001b[38;5;124m'\u001b[39m\u001b[38;5;124mcapital of France\u001b[39m\u001b[38;5;124m'\u001b[39m\u001b[38;5;124m)}}.\u001b[39m\u001b[38;5;124m\"\u001b[39m\n",
      "\u001b[1;31mAttributeError\u001b[0m: module 'genai' has no attribute 'get_gpt_transformer'"
     ]
    }
   ],
   "source": [
    "import genai\n",
    "from typing import Dict, Any\n",
    "\n",
    "\n",
    "# Function definition (assuming you have the function defined)\n",
    "async def get_trivia_answer(question):\n",
    "    # Your API call logic \n",
    "      url = \"https://opentdb.com/api.php?amount=10\" + question\n",
    "\n",
    "\n",
    "# Function declaration (replace with actual details)\n",
    "function_declaration = {\n",
    "    \"name\": \"get_trivia_answer\",\n",
    "    \"arguments\": [{\"name\": \"question\", \"type\": \"str\"}],\n",
    "    \"return_type\": {\"type\": \"str\"},\n",
    "}\n",
    "\n",
    "# Initialize model (replace model name if necessary)\n",
    "model = genai.get_gpt_transformer(\"gemini-1.5-flash\")  # Replace with actual model name\n",
    "\n",
    "prompt = \"What is the capital of France?\"  # Replace with user question\n",
    "prompt += \" Answer: {{get_trivia_answer(question='capital of France')}}.\"\n",
    "\n",
    "response = model.generate_content(prompt=prompt)\n",
    "print(response.candidates[0].text)\n",
    "\n",
    "\n",
    "\n",
    "\n",
    "\n",
    "\n",
    "# Prompt generation logic (replace with your prompt)\n",
    "#prompt = \"This is a prompt...\"\n",
    "\n",
    "# Generate response using the model\n",
    "##response = model.generate_text(prompt=prompt, tools=[function_declaration])\n",
    "\n",
    "# Access the generated text\n",
    "##print(response.text)\n"
   ]
  },
  {
   "cell_type": "code",
   "execution_count": 39,
   "metadata": {},
   "outputs": [
    {
     "name": "stdout",
     "output_type": "stream",
     "text": [
      "Note: you may need to restart the kernel to use updated packages.\n"
     ]
    },
    {
     "name": "stderr",
     "output_type": "stream",
     "text": [
      "ERROR: Invalid requirement: '#'\n",
      "WARNING: You are using pip version 20.2.1; however, version 24.0 is available.\n",
      "You should consider upgrading via the 'c:\\Users\\mshib\\AppData\\Local\\Programs\\Python\\Python38\\python.exe -m pip install --upgrade pip' command.\n"
     ]
    }
   ],
   "source": [
    "pip install transformers  # Or text-generation\n"
   ]
  },
  {
   "cell_type": "code",
   "execution_count": 3,
   "metadata": {},
   "outputs": [
    {
     "name": "stdout",
     "output_type": "stream",
     "text": [
      "Collecting text-generationNote: you may need to restart the kernel to use updated packages.\n",
      "\n",
      "  Downloading text_generation-0.7.0-py3-none-any.whl (12 kB)\n",
      "Requirement already satisfied: pydantic<3,>2 in c:\\users\\mshib\\appdata\\local\\programs\\python\\python38\\lib\\site-packages (from text-generation) (2.7.1)\n",
      "Requirement already satisfied: aiohttp<4.0,>=3.8 in c:\\users\\mshib\\appdata\\local\\programs\\python\\python38\\lib\\site-packages (from text-generation) (3.9.5)\n",
      "Requirement already satisfied: huggingface-hub<1.0,>=0.12 in c:\\users\\mshib\\appdata\\local\\programs\\python\\python38\\lib\\site-packages (from text-generation) (0.23.2)\n",
      "Requirement already satisfied: annotated-types>=0.4.0 in c:\\users\\mshib\\appdata\\local\\programs\\python\\python38\\lib\\site-packages (from pydantic<3,>2->text-generation) (0.6.0)\n",
      "Requirement already satisfied: pydantic-core==2.18.2 in c:\\users\\mshib\\appdata\\local\\programs\\python\\python38\\lib\\site-packages (from pydantic<3,>2->text-generation) (2.18.2)\n",
      "Requirement already satisfied: typing-extensions>=4.6.1 in c:\\users\\mshib\\appdata\\roaming\\python\\python38\\site-packages (from pydantic<3,>2->text-generation) (4.11.0)\n",
      "Requirement already satisfied: yarl<2.0,>=1.0 in c:\\users\\mshib\\appdata\\local\\programs\\python\\python38\\lib\\site-packages (from aiohttp<4.0,>=3.8->text-generation) (1.9.4)\n",
      "Requirement already satisfied: frozenlist>=1.1.1 in c:\\users\\mshib\\appdata\\local\\programs\\python\\python38\\lib\\site-packages (from aiohttp<4.0,>=3.8->text-generation) (1.4.1)\n",
      "Requirement already satisfied: multidict<7.0,>=4.5 in c:\\users\\mshib\\appdata\\local\\programs\\python\\python38\\lib\\site-packages (from aiohttp<4.0,>=3.8->text-generation) (6.0.5)\n",
      "Requirement already satisfied: async-timeout<5.0,>=4.0; python_version < \"3.11\" in c:\\users\\mshib\\appdata\\local\\programs\\python\\python38\\lib\\site-packages (from aiohttp<4.0,>=3.8->text-generation) (4.0.3)\n",
      "Requirement already satisfied: attrs>=17.3.0 in c:\\users\\mshib\\appdata\\local\\programs\\python\\python38\\lib\\site-packages (from aiohttp<4.0,>=3.8->text-generation) (23.2.0)\n",
      "Requirement already satisfied: aiosignal>=1.1.2 in c:\\users\\mshib\\appdata\\local\\programs\\python\\python38\\lib\\site-packages (from aiohttp<4.0,>=3.8->text-generation) (1.3.1)\n",
      "Requirement already satisfied: requests in c:\\users\\mshib\\appdata\\local\\programs\\python\\python38\\lib\\site-packages (from huggingface-hub<1.0,>=0.12->text-generation) (2.31.0)\n",
      "Requirement already satisfied: tqdm>=4.42.1 in c:\\users\\mshib\\appdata\\local\\programs\\python\\python38\\lib\\site-packages (from huggingface-hub<1.0,>=0.12->text-generation) (4.66.4)\n",
      "Requirement already satisfied: packaging>=20.9 in c:\\users\\mshib\\appdata\\local\\programs\\python\\python38\\lib\\site-packages (from huggingface-hub<1.0,>=0.12->text-generation) (23.2)\n",
      "Requirement already satisfied: filelock in c:\\users\\mshib\\appdata\\local\\programs\\python\\python38\\lib\\site-packages (from huggingface-hub<1.0,>=0.12->text-generation) (3.14.0)\n",
      "Requirement already satisfied: pyyaml>=5.1 in c:\\users\\mshib\\appdata\\local\\programs\\python\\python38\\lib\\site-packages (from huggingface-hub<1.0,>=0.12->text-generation) (6.0.1)\n",
      "Requirement already satisfied: fsspec>=2023.5.0 in c:\\users\\mshib\\appdata\\local\\programs\\python\\python38\\lib\\site-packages (from huggingface-hub<1.0,>=0.12->text-generation) (2024.5.0)\n",
      "Requirement already satisfied: idna>=2.0 in c:\\users\\mshib\\appdata\\local\\programs\\python\\python38\\lib\\site-packages (from yarl<2.0,>=1.0->aiohttp<4.0,>=3.8->text-generation) (3.7)\n",
      "Requirement already satisfied: certifi>=2017.4.17 in c:\\users\\mshib\\appdata\\local\\programs\\python\\python38\\lib\\site-packages (from requests->huggingface-hub<1.0,>=0.12->text-generation) (2024.2.2)\n",
      "Requirement already satisfied: charset-normalizer<4,>=2 in c:\\users\\mshib\\appdata\\local\\programs\\python\\python38\\lib\\site-packages (from requests->huggingface-hub<1.0,>=0.12->text-generation) (3.3.2)\n",
      "Requirement already satisfied: urllib3<3,>=1.21.1 in c:\\users\\mshib\\appdata\\local\\programs\\python\\python38\\lib\\site-packages (from requests->huggingface-hub<1.0,>=0.12->text-generation) (2.2.1)\n",
      "Requirement already satisfied: colorama; platform_system == \"Windows\" in c:\\users\\mshib\\appdata\\roaming\\python\\python38\\site-packages (from tqdm>=4.42.1->huggingface-hub<1.0,>=0.12->text-generation) (0.4.6)\n",
      "Installing collected packages: text-generation\n",
      "Successfully installed text-generation-0.7.0\n"
     ]
    },
    {
     "name": "stderr",
     "output_type": "stream",
     "text": [
      "WARNING: You are using pip version 20.2.1; however, version 24.0 is available.\n",
      "You should consider upgrading via the 'c:\\Users\\mshib\\AppData\\Local\\Programs\\Python\\Python38\\python.exe -m pip install --upgrade pip' command.\n"
     ]
    }
   ],
   "source": [
    "pip install text-generation\n"
   ]
  },
  {
   "cell_type": "code",
   "execution_count": 3,
   "metadata": {},
   "outputs": [],
   "source": [
    "async def get_trivia_answer(question):\n",
    "  # Replace with your actual API endpoint URL\n",
    "  url = \"https://opentdb.com/api.php?amount=1&category=&difficulty=&type=multiple&encode=urldecode&question=\" + question\n",
    "\n",
    "  # Send GET request to the API\n",
    "  response = requests.get(url)\n",
    "\n",
    "  # Check for successful response\n",
    "  if response.status_code == 200:\n",
    "    # Parse JSON response\n",
    "    data = response.json()\n",
    "    # Extract answer from the first result (assuming success)\n",
    "    if data['results']:\n",
    "      answer = data['results'][0]['correct_answer']\n",
    "      return answer\n",
    "    else:\n",
    "      return \"No results found for this question.\"\n",
    "  else:\n",
    "    return f\"API Error: {response.status_code}\"\n"
   ]
  },
  {
   "cell_type": "code",
   "execution_count": 4,
   "metadata": {},
   "outputs": [],
   "source": [
    "from typing import Dict, Any\n",
    "\n",
    "function_declaration = {\n",
    "    \"name\": \"get_trivia_answer\",\n",
    "    \"arguments\": [{\"name\": \"question\", \"type\": \"str\"}],\n",
    "    \"return_type\": {\"type\": \"str\"},\n",
    "}\n"
   ]
  },
  {
   "cell_type": "code",
   "execution_count": 31,
   "metadata": {},
   "outputs": [
    {
     "name": "stdout",
     "output_type": "stream",
     "text": [
      "Requirement already satisfied: google-generativeai in c:\\users\\mshib\\appdata\\local\\programs\\python\\python38\\lib\\site-packages (0.1.0rc1)\n",
      "Requirement already satisfied: google-ai-generativelanguage==0.1.0 in c:\\users\\mshib\\appdata\\local\\programs\\python\\python38\\lib\\site-packages (from google-generativeai) (0.1.0)\n",
      "Requirement already satisfied: proto-plus<2.0.0dev,>=1.22.0 in c:\\users\\mshib\\appdata\\local\\programs\\python\\python38\\lib\\site-packages (from google-ai-generativelanguage==0.1.0->google-generativeai) (1.23.0)\n",
      "Requirement already satisfied: protobuf!=3.20.0,!=3.20.1,!=4.21.0,!=4.21.1,!=4.21.2,!=4.21.3,!=4.21.4,!=4.21.5,<5.0.0dev,>=3.19.5 in c:\\users\\mshib\\appdata\\local\\programs\\python\\python38\\lib\\site-packages (from google-ai-generativelanguage==0.1.0->google-generativeai) (4.25.3)\n",
      "Requirement already satisfied: google-api-core[grpc]!=2.0.*,!=2.1.*,!=2.10.*,!=2.2.*,!=2.3.*,!=2.4.*,!=2.5.*,!=2.6.*,!=2.7.*,!=2.8.*,!=2.9.*,<3.0.0dev,>=1.34.0 in c:\\users\\mshib\\appdata\\local\\programs\\python\\python38\\lib\\site-packages (from google-ai-generativelanguage==0.1.0->google-generativeai) (2.19.0)\n",
      "Requirement already satisfied: google-auth<3.0.dev0,>=2.14.1 in c:\\users\\mshib\\appdata\\local\\programs\\python\\python38\\lib\\site-packages (from google-api-core[grpc]!=2.0.*,!=2.1.*,!=2.10.*,!=2.2.*,!=2.3.*,!=2.4.*,!=2.5.*,!=2.6.*,!=2.7.*,!=2.8.*,!=2.9.*,<3.0.0dev,>=1.34.0->google-ai-generativelanguage==0.1.0->google-generativeai) (2.29.0)\n",
      "Requirement already satisfied: googleapis-common-protos<2.0.dev0,>=1.56.2 in c:\\users\\mshib\\appdata\\local\\programs\\python\\python38\\lib\\site-packages (from google-api-core[grpc]!=2.0.*,!=2.1.*,!=2.10.*,!=2.2.*,!=2.3.*,!=2.4.*,!=2.5.*,!=2.6.*,!=2.7.*,!=2.8.*,!=2.9.*,<3.0.0dev,>=1.34.0->google-ai-generativelanguage==0.1.0->google-generativeai) (1.63.0)\n",
      "Requirement already satisfied: requests<3.0.0.dev0,>=2.18.0 in c:\\users\\mshib\\appdata\\local\\programs\\python\\python38\\lib\\site-packages (from google-api-core[grpc]!=2.0.*,!=2.1.*,!=2.10.*,!=2.2.*,!=2.3.*,!=2.4.*,!=2.5.*,!=2.6.*,!=2.7.*,!=2.8.*,!=2.9.*,<3.0.0dev,>=1.34.0->google-ai-generativelanguage==0.1.0->google-generativeai) (2.31.0)\n",
      "Requirement already satisfied: grpcio-status<2.0.dev0,>=1.33.2; extra == \"grpc\" in c:\\users\\mshib\\appdata\\local\\programs\\python\\python38\\lib\\site-packages (from google-api-core[grpc]!=2.0.*,!=2.1.*,!=2.10.*,!=2.2.*,!=2.3.*,!=2.4.*,!=2.5.*,!=2.6.*,!=2.7.*,!=2.8.*,!=2.9.*,<3.0.0dev,>=1.34.0->google-ai-generativelanguage==0.1.0->google-generativeai) (1.64.0)\n",
      "Requirement already satisfied: grpcio<2.0dev,>=1.33.2; extra == \"grpc\" in c:\\users\\mshib\\appdata\\local\\programs\\python\\python38\\lib\\site-packages (from google-api-core[grpc]!=2.0.*,!=2.1.*,!=2.10.*,!=2.2.*,!=2.3.*,!=2.4.*,!=2.5.*,!=2.6.*,!=2.7.*,!=2.8.*,!=2.9.*,<3.0.0dev,>=1.34.0->google-ai-generativelanguage==0.1.0->google-generativeai) (1.64.0)\n",
      "Requirement already satisfied: cachetools<6.0,>=2.0.0 in c:\\users\\mshib\\appdata\\local\\programs\\python\\python38\\lib\\site-packages (from google-auth<3.0.dev0,>=2.14.1->google-api-core[grpc]!=2.0.*,!=2.1.*,!=2.10.*,!=2.2.*,!=2.3.*,!=2.4.*,!=2.5.*,!=2.6.*,!=2.7.*,!=2.8.*,!=2.9.*,<3.0.0dev,>=1.34.0->google-ai-generativelanguage==0.1.0->google-generativeai) (5.3.3)\n",
      "Requirement already satisfied: pyasn1-modules>=0.2.1 in c:\\users\\mshib\\appdata\\local\\programs\\python\\python38\\lib\\site-packages (from google-auth<3.0.dev0,>=2.14.1->google-api-core[grpc]!=2.0.*,!=2.1.*,!=2.10.*,!=2.2.*,!=2.3.*,!=2.4.*,!=2.5.*,!=2.6.*,!=2.7.*,!=2.8.*,!=2.9.*,<3.0.0dev,>=1.34.0->google-ai-generativelanguage==0.1.0->google-generativeai) (0.4.0)\n",
      "Requirement already satisfied: rsa<5,>=3.1.4 in c:\\users\\mshib\\appdata\\local\\programs\\python\\python38\\lib\\site-packages (from google-auth<3.0.dev0,>=2.14.1->google-api-core[grpc]!=2.0.*,!=2.1.*,!=2.10.*,!=2.2.*,!=2.3.*,!=2.4.*,!=2.5.*,!=2.6.*,!=2.7.*,!=2.8.*,!=2.9.*,<3.0.0dev,>=1.34.0->google-ai-generativelanguage==0.1.0->google-generativeai) (4.9)\n",
      "Requirement already satisfied: charset-normalizer<4,>=2 in c:\\users\\mshib\\appdata\\local\\programs\\python\\python38\\lib\\site-packages (from requests<3.0.0.dev0,>=2.18.0->google-api-core[grpc]!=2.0.*,!=2.1.*,!=2.10.*,!=2.2.*,!=2.3.*,!=2.4.*,!=2.5.*,!=2.6.*,!=2.7.*,!=2.8.*,!=2.9.*,<3.0.0dev,>=1.34.0->google-ai-generativelanguage==0.1.0->google-generativeai) (3.3.2)\n",
      "Requirement already satisfied: urllib3<3,>=1.21.1 in c:\\users\\mshib\\appdata\\local\\programs\\python\\python38\\lib\\site-packages (from requests<3.0.0.dev0,>=2.18.0->google-api-core[grpc]!=2.0.*,!=2.1.*,!=2.10.*,!=2.2.*,!=2.3.*,!=2.4.*,!=2.5.*,!=2.6.*,!=2.7.*,!=2.8.*,!=2.9.*,<3.0.0dev,>=1.34.0->google-ai-generativelanguage==0.1.0->google-generativeai) (2.2.1)\n",
      "Requirement already satisfied: idna<4,>=2.5 in c:\\users\\mshib\\appdata\\local\\programs\\python\\python38\\lib\\site-packages (from requests<3.0.0.dev0,>=2.18.0->google-api-core[grpc]!=2.0.*,!=2.1.*,!=2.10.*,!=2.2.*,!=2.3.*,!=2.4.*,!=2.5.*,!=2.6.*,!=2.7.*,!=2.8.*,!=2.9.*,<3.0.0dev,>=1.34.0->google-ai-generativelanguage==0.1.0->google-generativeai) (3.7)\n",
      "Requirement already satisfied: certifi>=2017.4.17 in c:\\users\\mshib\\appdata\\local\\programs\\python\\python38\\lib\\site-packages (from requests<3.0.0.dev0,>=2.18.0->google-api-core[grpc]!=2.0.*,!=2.1.*,!=2.10.*,!=2.2.*,!=2.3.*,!=2.4.*,!=2.5.*,!=2.6.*,!=2.7.*,!=2.8.*,!=2.9.*,<3.0.0dev,>=1.34.0->google-ai-generativelanguage==0.1.0->google-generativeai) (2024.2.2)\n",
      "Requirement already satisfied: pyasn1<0.7.0,>=0.4.6 in c:\\users\\mshib\\appdata\\local\\programs\\python\\python38\\lib\\site-packages (from pyasn1-modules>=0.2.1->google-auth<3.0.dev0,>=2.14.1->google-api-core[grpc]!=2.0.*,!=2.1.*,!=2.10.*,!=2.2.*,!=2.3.*,!=2.4.*,!=2.5.*,!=2.6.*,!=2.7.*,!=2.8.*,!=2.9.*,<3.0.0dev,>=1.34.0->google-ai-generativelanguage==0.1.0->google-generativeai) (0.6.0)\n",
      "Note: you may need to restart the kernel to use updated packages.\n"
     ]
    },
    {
     "name": "stderr",
     "output_type": "stream",
     "text": [
      "WARNING: You are using pip version 20.2.1; however, version 24.0 is available.\n",
      "You should consider upgrading via the 'c:\\Users\\mshib\\AppData\\Local\\Programs\\Python\\Python38\\python.exe -m pip install --upgrade pip' command.\n"
     ]
    }
   ],
   "source": [
    "pip install google-generativeai\n"
   ]
  },
  {
   "cell_type": "code",
   "execution_count": 24,
   "metadata": {},
   "outputs": [
    {
     "name": "stdout",
     "output_type": "stream",
     "text": [
      "Requirement already up-to-date: google-generativeai in c:\\users\\mshib\\appdata\\local\\programs\\python\\python38\\lib\\site-packages (0.1.0rc1)\n",
      "Requirement already satisfied, skipping upgrade: google-ai-generativelanguage==0.1.0 in c:\\users\\mshib\\appdata\\local\\programs\\python\\python38\\lib\\site-packages (from google-generativeai) (0.1.0)\n",
      "Requirement already satisfied, skipping upgrade: protobuf!=3.20.0,!=3.20.1,!=4.21.0,!=4.21.1,!=4.21.2,!=4.21.3,!=4.21.4,!=4.21.5,<5.0.0dev,>=3.19.5 in c:\\users\\mshib\\appdata\\local\\programs\\python\\python38\\lib\\site-packages (from google-ai-generativelanguage==0.1.0->google-generativeai) (4.25.3)\n",
      "Requirement already satisfied, skipping upgrade: proto-plus<2.0.0dev,>=1.22.0 in c:\\users\\mshib\\appdata\\local\\programs\\python\\python38\\lib\\site-packages (from google-ai-generativelanguage==0.1.0->google-generativeai) (1.23.0)\n",
      "Requirement already satisfied, skipping upgrade: google-api-core[grpc]!=2.0.*,!=2.1.*,!=2.10.*,!=2.2.*,!=2.3.*,!=2.4.*,!=2.5.*,!=2.6.*,!=2.7.*,!=2.8.*,!=2.9.*,<3.0.0dev,>=1.34.0 in c:\\users\\mshib\\appdata\\local\\programs\\python\\python38\\lib\\site-packages (from google-ai-generativelanguage==0.1.0->google-generativeai) (2.19.0)\n",
      "Requirement already satisfied, skipping upgrade: google-auth<3.0.dev0,>=2.14.1 in c:\\users\\mshib\\appdata\\local\\programs\\python\\python38\\lib\\site-packages (from google-api-core[grpc]!=2.0.*,!=2.1.*,!=2.10.*,!=2.2.*,!=2.3.*,!=2.4.*,!=2.5.*,!=2.6.*,!=2.7.*,!=2.8.*,!=2.9.*,<3.0.0dev,>=1.34.0->google-ai-generativelanguage==0.1.0->google-generativeai) (2.29.0)\n",
      "Requirement already satisfied, skipping upgrade: requests<3.0.0.dev0,>=2.18.0 in c:\\users\\mshib\\appdata\\local\\programs\\python\\python38\\lib\\site-packages (from google-api-core[grpc]!=2.0.*,!=2.1.*,!=2.10.*,!=2.2.*,!=2.3.*,!=2.4.*,!=2.5.*,!=2.6.*,!=2.7.*,!=2.8.*,!=2.9.*,<3.0.0dev,>=1.34.0->google-ai-generativelanguage==0.1.0->google-generativeai) (2.31.0)\n",
      "Requirement already satisfied, skipping upgrade: googleapis-common-protos<2.0.dev0,>=1.56.2 in c:\\users\\mshib\\appdata\\local\\programs\\python\\python38\\lib\\site-packages (from google-api-core[grpc]!=2.0.*,!=2.1.*,!=2.10.*,!=2.2.*,!=2.3.*,!=2.4.*,!=2.5.*,!=2.6.*,!=2.7.*,!=2.8.*,!=2.9.*,<3.0.0dev,>=1.34.0->google-ai-generativelanguage==0.1.0->google-generativeai) (1.63.0)\n",
      "Requirement already satisfied, skipping upgrade: grpcio<2.0dev,>=1.33.2; extra == \"grpc\" in c:\\users\\mshib\\appdata\\local\\programs\\python\\python38\\lib\\site-packages (from google-api-core[grpc]!=2.0.*,!=2.1.*,!=2.10.*,!=2.2.*,!=2.3.*,!=2.4.*,!=2.5.*,!=2.6.*,!=2.7.*,!=2.8.*,!=2.9.*,<3.0.0dev,>=1.34.0->google-ai-generativelanguage==0.1.0->google-generativeai) (1.64.0)\n",
      "Requirement already satisfied, skipping upgrade: grpcio-status<2.0.dev0,>=1.33.2; extra == \"grpc\" in c:\\users\\mshib\\appdata\\local\\programs\\python\\python38\\lib\\site-packages (from google-api-core[grpc]!=2.0.*,!=2.1.*,!=2.10.*,!=2.2.*,!=2.3.*,!=2.4.*,!=2.5.*,!=2.6.*,!=2.7.*,!=2.8.*,!=2.9.*,<3.0.0dev,>=1.34.0->google-ai-generativelanguage==0.1.0->google-generativeai) (1.64.0)\n",
      "Requirement already satisfied, skipping upgrade: rsa<5,>=3.1.4 in c:\\users\\mshib\\appdata\\local\\programs\\python\\python38\\lib\\site-packages (from google-auth<3.0.dev0,>=2.14.1->google-api-core[grpc]!=2.0.*,!=2.1.*,!=2.10.*,!=2.2.*,!=2.3.*,!=2.4.*,!=2.5.*,!=2.6.*,!=2.7.*,!=2.8.*,!=2.9.*,<3.0.0dev,>=1.34.0->google-ai-generativelanguage==0.1.0->google-generativeai) (4.9)\n",
      "Requirement already satisfied, skipping upgrade: pyasn1-modules>=0.2.1 in c:\\users\\mshib\\appdata\\local\\programs\\python\\python38\\lib\\site-packages (from google-auth<3.0.dev0,>=2.14.1->google-api-core[grpc]!=2.0.*,!=2.1.*,!=2.10.*,!=2.2.*,!=2.3.*,!=2.4.*,!=2.5.*,!=2.6.*,!=2.7.*,!=2.8.*,!=2.9.*,<3.0.0dev,>=1.34.0->google-ai-generativelanguage==0.1.0->google-generativeai) (0.4.0)\n",
      "Requirement already satisfied, skipping upgrade: cachetools<6.0,>=2.0.0 in c:\\users\\mshib\\appdata\\local\\programs\\python\\python38\\lib\\site-packages (from google-auth<3.0.dev0,>=2.14.1->google-api-core[grpc]!=2.0.*,!=2.1.*,!=2.10.*,!=2.2.*,!=2.3.*,!=2.4.*,!=2.5.*,!=2.6.*,!=2.7.*,!=2.8.*,!=2.9.*,<3.0.0dev,>=1.34.0->google-ai-generativelanguage==0.1.0->google-generativeai) (5.3.3)\n",
      "Requirement already satisfied, skipping upgrade: idna<4,>=2.5 in c:\\users\\mshib\\appdata\\local\\programs\\python\\python38\\lib\\site-packages (from requests<3.0.0.dev0,>=2.18.0->google-api-core[grpc]!=2.0.*,!=2.1.*,!=2.10.*,!=2.2.*,!=2.3.*,!=2.4.*,!=2.5.*,!=2.6.*,!=2.7.*,!=2.8.*,!=2.9.*,<3.0.0dev,>=1.34.0->google-ai-generativelanguage==0.1.0->google-generativeai) (3.7)\n",
      "Requirement already satisfied, skipping upgrade: certifi>=2017.4.17 in c:\\users\\mshib\\appdata\\local\\programs\\python\\python38\\lib\\site-packages (from requests<3.0.0.dev0,>=2.18.0->google-api-core[grpc]!=2.0.*,!=2.1.*,!=2.10.*,!=2.2.*,!=2.3.*,!=2.4.*,!=2.5.*,!=2.6.*,!=2.7.*,!=2.8.*,!=2.9.*,<3.0.0dev,>=1.34.0->google-ai-generativelanguage==0.1.0->google-generativeai) (2024.2.2)\n",
      "Requirement already satisfied, skipping upgrade: urllib3<3,>=1.21.1 in c:\\users\\mshib\\appdata\\local\\programs\\python\\python38\\lib\\site-packages (from requests<3.0.0.dev0,>=2.18.0->google-api-core[grpc]!=2.0.*,!=2.1.*,!=2.10.*,!=2.2.*,!=2.3.*,!=2.4.*,!=2.5.*,!=2.6.*,!=2.7.*,!=2.8.*,!=2.9.*,<3.0.0dev,>=1.34.0->google-ai-generativelanguage==0.1.0->google-generativeai) (2.2.1)\n",
      "Requirement already satisfied, skipping upgrade: charset-normalizer<4,>=2 in c:\\users\\mshib\\appdata\\local\\programs\\python\\python38\\lib\\site-packages (from requests<3.0.0.dev0,>=2.18.0->google-api-core[grpc]!=2.0.*,!=2.1.*,!=2.10.*,!=2.2.*,!=2.3.*,!=2.4.*,!=2.5.*,!=2.6.*,!=2.7.*,!=2.8.*,!=2.9.*,<3.0.0dev,>=1.34.0->google-ai-generativelanguage==0.1.0->google-generativeai) (3.3.2)\n",
      "Requirement already satisfied, skipping upgrade: pyasn1>=0.1.3 in c:\\users\\mshib\\appdata\\local\\programs\\python\\python38\\lib\\site-packages (from rsa<5,>=3.1.4->google-auth<3.0.dev0,>=2.14.1->google-api-core[grpc]!=2.0.*,!=2.1.*,!=2.10.*,!=2.2.*,!=2.3.*,!=2.4.*,!=2.5.*,!=2.6.*,!=2.7.*,!=2.8.*,!=2.9.*,<3.0.0dev,>=1.34.0->google-ai-generativelanguage==0.1.0->google-generativeai) (0.6.0)\n",
      "Note: you may need to restart the kernel to use updated packages.\n"
     ]
    },
    {
     "name": "stderr",
     "output_type": "stream",
     "text": [
      "WARNING: You are using pip version 20.2.1; however, version 24.0 is available.\n",
      "You should consider upgrading via the 'c:\\Users\\mshib\\AppData\\Local\\Programs\\Python\\Python38\\python.exe -m pip install --upgrade pip' command.\n"
     ]
    }
   ],
   "source": [
    "pip install --upgrade google-generativeai\n"
   ]
  },
  {
   "cell_type": "code",
   "execution_count": 8,
   "metadata": {
    "vscode": {
     "languageId": "javascript"
    }
   },
   "outputs": [
    {
     "ename": "AttributeError",
     "evalue": "module 'genai' has no attribute 'getGenerativeModel'",
     "output_type": "error",
     "traceback": [
      "\u001b[1;31m---------------------------------------------------------------------------\u001b[0m",
      "\u001b[1;31mAttributeError\u001b[0m                            Traceback (most recent call last)",
      "Cell \u001b[1;32mIn[8], line 1\u001b[0m\n\u001b[1;32m----> 1\u001b[0m model \u001b[38;5;241m=\u001b[39m \u001b[43mgenai\u001b[49m\u001b[38;5;241;43m.\u001b[39;49m\u001b[43mgetGenerativeModel\u001b[49m({\n\u001b[0;32m      2\u001b[0m   \u001b[38;5;124m\"\u001b[39m\u001b[38;5;124mmodel\u001b[39m\u001b[38;5;124m\"\u001b[39m: \u001b[38;5;124m\"\u001b[39m\u001b[38;5;124mgemini-1.5-flash\u001b[39m\u001b[38;5;124m\"\u001b[39m,\n\u001b[0;32m      3\u001b[0m   \u001b[38;5;124m\"\u001b[39m\u001b[38;5;124mtools\u001b[39m\u001b[38;5;124m\"\u001b[39m: [function_declaration],\n\u001b[0;32m      4\u001b[0m })\n",
      "\u001b[1;31mAttributeError\u001b[0m: module 'genai' has no attribute 'getGenerativeModel'"
     ]
    }
   ],
   "source": [
    "model = genai.getGenerativeModel({\n",
    "  \"model\": \"gemini-1.5-flash\",\n",
    "  \"tools\": [function_declaration],\n",
    "})\n"
   ]
  },
  {
   "cell_type": "code",
   "execution_count": null,
   "metadata": {},
   "outputs": [],
   "source": [
    "pip install"
   ]
  }
 ],
 "metadata": {
  "kernelspec": {
   "display_name": "Python 3",
   "language": "python",
   "name": "python3"
  },
  "language_info": {
   "codemirror_mode": {
    "name": "ipython",
    "version": 3
   },
   "file_extension": ".py",
   "mimetype": "text/x-python",
   "name": "python",
   "nbconvert_exporter": "python",
   "pygments_lexer": "ipython3",
   "version": "3.8.6"
  }
 },
 "nbformat": 4,
 "nbformat_minor": 2
}
