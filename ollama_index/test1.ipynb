{
 "cells": [
  {
   "cell_type": "code",
   "execution_count": 11,
   "metadata": {},
   "outputs": [
    {
     "name": "stdout",
     "output_type": "stream",
     "text": [
      "Of course! I'd be happy to tell you a short story. Here it goes:\n",
      "\n",
      "The Small Town of Willow Creek\n",
      "\n",
      "Willow Creek was a small town nestled in the heart of the countryside. It was a place where everyone knew each other, and life moved at a gentle pace. The town was surrounded by rolling hills, green forests, and sparkling streams. It was the kind of place where people came to escape the hustle and bustle of city life and find peace and tranquility.\n",
      "\n",
      "One day, a young couple named Emily and Ryan moved to Willow Creek. They were drawn by its picturesque charm and sense of community. They found a cozy little cottage on the outskirts of town and settled in quickly.\n",
      "\n",
      "Emily was a nature lover and spent most of her days exploring the surrounding woods and meadows. She would often return home with armfuls of wildflowers and berries, which she would use to make jam and other delicious treats. Ryan, on the other hand, was an artist. He set up a small studio in their backyard and spent his days painting the beautiful landscapes of Willow Creek.\n",
      "\n",
      "As time passed, Emily and Ryan became an integral part of the community. They would often host gatherings at their home, where they would share their bounty with their neighbors. The townspeople would come together to enjoy Emily's delicious meals and Ryan's colorful paintings.\n",
      "\n",
      "One day, a terrible storm rolled in over Willow Creek. The winds howled and the rain lashed down, causing flooding and destruction throughout the town. Emily and Ryan's cottage was no exception, but they were prepared for such events. They had stocked up on supplies and weathered the storm together, huddled by the fireplace.\n",
      "\n",
      "After the storm had passed, the townspeople came together to assess the damage. Willow Creek was in shambles, but Emily and Ryan's cottage was one of the few that remained unscathed. It was as if they had been sheltered from the storm by some unseen force.\n",
      "\n",
      "As the community began to rebuild, Emily and Ryan found themselves at the forefront of the effort. They used their skills and talents to help restore Willow Creek to its former beauty. And as they worked side by side with their neighbors, they discovered that their love for each other had grown stronger than ever before.\n",
      "\n",
      "Emily and Ryan's love story was one for the ages, a testament to the power of community and the magic of small-town living. They lived happily ever after in Willow Creek, surrounded by the people and places they loved. The end.\n"
     ]
    }
   ],
   "source": [
    "from langchain.llms import Ollama  # type: ignore\n",
    "\n",
    "# Set the base URL for the Ollama server (localhost by default)\n",
    "base_url = \"http://localhost:11434\"\n",
    "\n",
    "# Create an Ollama model instance with the specified base URL and model name\n",
    "ollama_model = Ollama(base_url=base_url, model=\"kuttystory\")\n",
    "\n",
    "# Send a prompt \"who are you\" to the Ollama model and print the response\n",
    "print(ollama_model(\"tell a short story\"))\n"
   ]
  },
  {
   "cell_type": "code",
   "execution_count": 5,
   "metadata": {},
   "outputs": [
    {
     "name": "stdout",
     "output_type": "stream",
     "text": [
      "Collecting langchain_communityNote: you may need to restart the kernel to use updated packages.\n"
     ]
    },
    {
     "name": "stderr",
     "output_type": "stream",
     "text": [
      "WARNING: You are using pip version 20.2.1; however, version 24.0 is available.\n",
      "You should consider upgrading via the 'c:\\Users\\mshib\\AppData\\Local\\Programs\\Python\\Python38\\python.exe -m pip install --upgrade pip' command.\n"
     ]
    },
    {
     "name": "stdout",
     "output_type": "stream",
     "text": [
      "\n",
      "  Downloading langchain_community-0.2.0-py3-none-any.whl (2.1 MB)\n",
      "Requirement already satisfied: langchain<0.3.0,>=0.2.0 in c:\\users\\mshib\\appdata\\local\\programs\\python\\python38\\lib\\site-packages (from langchain_community) (0.2.0)\n",
      "Requirement already satisfied: dataclasses-json<0.7,>=0.5.7 in c:\\users\\mshib\\appdata\\local\\programs\\python\\python38\\lib\\site-packages (from langchain_community) (0.6.6)\n",
      "Requirement already satisfied: PyYAML>=5.3 in c:\\users\\mshib\\appdata\\local\\programs\\python\\python38\\lib\\site-packages (from langchain_community) (6.0.1)\n",
      "Requirement already satisfied: aiohttp<4.0.0,>=3.8.3 in c:\\users\\mshib\\appdata\\local\\programs\\python\\python38\\lib\\site-packages (from langchain_community) (3.9.5)\n",
      "Requirement already satisfied: tenacity<9.0.0,>=8.1.0 in c:\\users\\mshib\\appdata\\local\\programs\\python\\python38\\lib\\site-packages (from langchain_community) (8.3.0)\n",
      "Requirement already satisfied: SQLAlchemy<3,>=1.4 in c:\\users\\mshib\\appdata\\local\\programs\\python\\python38\\lib\\site-packages (from langchain_community) (2.0.30)\n",
      "Requirement already satisfied: langchain-core<0.3.0,>=0.2.0 in c:\\users\\mshib\\appdata\\local\\programs\\python\\python38\\lib\\site-packages (from langchain_community) (0.2.0)\n",
      "Requirement already satisfied: numpy<2,>=1 in c:\\users\\mshib\\appdata\\local\\programs\\python\\python38\\lib\\site-packages (from langchain_community) (1.24.4)\n",
      "Requirement already satisfied: langsmith<0.2.0,>=0.1.0 in c:\\users\\mshib\\appdata\\local\\programs\\python\\python38\\lib\\site-packages (from langchain_community) (0.1.59)\n",
      "Requirement already satisfied: requests<3,>=2 in c:\\users\\mshib\\appdata\\local\\programs\\python\\python38\\lib\\site-packages (from langchain_community) (2.31.0)\n",
      "Requirement already satisfied: langchain-text-splitters<0.3.0,>=0.2.0 in c:\\users\\mshib\\appdata\\local\\programs\\python\\python38\\lib\\site-packages (from langchain<0.3.0,>=0.2.0->langchain_community) (0.2.0)\n",
      "Requirement already satisfied: pydantic<3,>=1 in c:\\users\\mshib\\appdata\\local\\programs\\python\\python38\\lib\\site-packages (from langchain<0.3.0,>=0.2.0->langchain_community) (2.7.1)\n",
      "Requirement already satisfied: async-timeout<5.0.0,>=4.0.0; python_version < \"3.11\" in c:\\users\\mshib\\appdata\\local\\programs\\python\\python38\\lib\\site-packages (from langchain<0.3.0,>=0.2.0->langchain_community) (4.0.3)\n",
      "Requirement already satisfied: marshmallow<4.0.0,>=3.18.0 in c:\\users\\mshib\\appdata\\local\\programs\\python\\python38\\lib\\site-packages (from dataclasses-json<0.7,>=0.5.7->langchain_community) (3.21.2)\n",
      "Requirement already satisfied: typing-inspect<1,>=0.4.0 in c:\\users\\mshib\\appdata\\local\\programs\\python\\python38\\lib\\site-packages (from dataclasses-json<0.7,>=0.5.7->langchain_community) (0.9.0)\n",
      "Requirement already satisfied: aiosignal>=1.1.2 in c:\\users\\mshib\\appdata\\local\\programs\\python\\python38\\lib\\site-packages (from aiohttp<4.0.0,>=3.8.3->langchain_community) (1.3.1)\n",
      "Requirement already satisfied: yarl<2.0,>=1.0 in c:\\users\\mshib\\appdata\\local\\programs\\python\\python38\\lib\\site-packages (from aiohttp<4.0.0,>=3.8.3->langchain_community) (1.9.4)\n",
      "Requirement already satisfied: attrs>=17.3.0 in c:\\users\\mshib\\appdata\\local\\programs\\python\\python38\\lib\\site-packages (from aiohttp<4.0.0,>=3.8.3->langchain_community) (23.2.0)\n",
      "Requirement already satisfied: frozenlist>=1.1.1 in c:\\users\\mshib\\appdata\\local\\programs\\python\\python38\\lib\\site-packages (from aiohttp<4.0.0,>=3.8.3->langchain_community) (1.4.1)\n",
      "Requirement already satisfied: multidict<7.0,>=4.5 in c:\\users\\mshib\\appdata\\local\\programs\\python\\python38\\lib\\site-packages (from aiohttp<4.0.0,>=3.8.3->langchain_community) (6.0.5)\n",
      "Requirement already satisfied: greenlet!=0.4.17; platform_machine == \"aarch64\" or (platform_machine == \"ppc64le\" or (platform_machine == \"x86_64\" or (platform_machine == \"amd64\" or (platform_machine == \"AMD64\" or (platform_machine == \"win32\" or platform_machine == \"WIN32\"))))) in c:\\users\\mshib\\appdata\\local\\programs\\python\\python38\\lib\\site-packages (from SQLAlchemy<3,>=1.4->langchain_community) (3.0.3)\n",
      "Requirement already satisfied: typing-extensions>=4.6.0 in c:\\users\\mshib\\appdata\\roaming\\python\\python38\\site-packages (from SQLAlchemy<3,>=1.4->langchain_community) (4.11.0)\n",
      "Requirement already satisfied: packaging<24.0,>=23.2 in c:\\users\\mshib\\appdata\\local\\programs\\python\\python38\\lib\\site-packages (from langchain-core<0.3.0,>=0.2.0->langchain_community) (23.2)\n",
      "Requirement already satisfied: jsonpatch<2.0,>=1.33 in c:\\users\\mshib\\appdata\\local\\programs\\python\\python38\\lib\\site-packages (from langchain-core<0.3.0,>=0.2.0->langchain_community) (1.33)\n",
      "Requirement already satisfied: orjson<4.0.0,>=3.9.14 in c:\\users\\mshib\\appdata\\local\\programs\\python\\python38\\lib\\site-packages (from langsmith<0.2.0,>=0.1.0->langchain_community) (3.10.3)\n",
      "Requirement already satisfied: charset-normalizer<4,>=2 in c:\\users\\mshib\\appdata\\local\\programs\\python\\python38\\lib\\site-packages (from requests<3,>=2->langchain_community) (3.3.2)\n",
      "Requirement already satisfied: idna<4,>=2.5 in c:\\users\\mshib\\appdata\\local\\programs\\python\\python38\\lib\\site-packages (from requests<3,>=2->langchain_community) (3.7)\n",
      "Requirement already satisfied: certifi>=2017.4.17 in c:\\users\\mshib\\appdata\\local\\programs\\python\\python38\\lib\\site-packages (from requests<3,>=2->langchain_community) (2024.2.2)\n",
      "Requirement already satisfied: urllib3<3,>=1.21.1 in c:\\users\\mshib\\appdata\\local\\programs\\python\\python38\\lib\\site-packages (from requests<3,>=2->langchain_community) (2.2.1)\n",
      "Requirement already satisfied: pydantic-core==2.18.2 in c:\\users\\mshib\\appdata\\local\\programs\\python\\python38\\lib\\site-packages (from pydantic<3,>=1->langchain<0.3.0,>=0.2.0->langchain_community) (2.18.2)\n",
      "Requirement already satisfied: annotated-types>=0.4.0 in c:\\users\\mshib\\appdata\\local\\programs\\python\\python38\\lib\\site-packages (from pydantic<3,>=1->langchain<0.3.0,>=0.2.0->langchain_community) (0.6.0)\n",
      "Requirement already satisfied: mypy-extensions>=0.3.0 in c:\\users\\mshib\\appdata\\local\\programs\\python\\python38\\lib\\site-packages (from typing-inspect<1,>=0.4.0->dataclasses-json<0.7,>=0.5.7->langchain_community) (1.0.0)\n",
      "Requirement already satisfied: jsonpointer>=1.9 in c:\\users\\mshib\\appdata\\local\\programs\\python\\python38\\lib\\site-packages (from jsonpatch<2.0,>=1.33->langchain-core<0.3.0,>=0.2.0->langchain_community) (2.4)\n",
      "Installing collected packages: langchain-community\n",
      "Successfully installed langchain-community-0.2.0\n"
     ]
    }
   ],
   "source": [
    "pip install langchain_community"
   ]
  },
  {
   "cell_type": "code",
   "execution_count": 3,
   "metadata": {},
   "outputs": [
    {
     "name": "stdout",
     "output_type": "stream",
     "text": [
      "Collecting langchain\n",
      "  Downloading langchain-0.2.0-py3-none-any.whl (973 kB)\n",
      "Collecting SQLAlchemy<3,>=1.4\n",
      "  Downloading SQLAlchemy-2.0.30-cp38-cp38-win_amd64.whl (2.1 MB)\n",
      "Collecting dataclasses-json<0.7,>=0.5.7\n",
      "  Downloading dataclasses_json-0.6.6-py3-none-any.whl (28 kB)\n",
      "Collecting requests<3,>=2\n",
      "  Downloading requests-2.31.0-py3-none-any.whl (62 kB)\n",
      "Collecting langsmith<0.2.0,>=0.1.17\n",
      "  Downloading langsmith-0.1.59-py3-none-any.whl (121 kB)\n",
      "Collecting numpy<2,>=1\n",
      "  Downloading numpy-1.24.4-cp38-cp38-win_amd64.whl (14.9 MB)\n",
      "Collecting async-timeout<5.0.0,>=4.0.0; python_version < \"3.11\"\n",
      "  Downloading async_timeout-4.0.3-py3-none-any.whl (5.7 kB)\n",
      "Collecting tenacity<9.0.0,>=8.1.0\n",
      "  Downloading tenacity-8.3.0-py3-none-any.whl (25 kB)\n",
      "Collecting langchain-text-splitters<0.3.0,>=0.2.0\n",
      "  Downloading langchain_text_splitters-0.2.0-py3-none-any.whl (23 kB)\n",
      "Collecting PyYAML>=5.3\n",
      "  Downloading PyYAML-6.0.1-cp38-cp38-win_amd64.whl (157 kB)\n",
      "Collecting langchain-core<0.3.0,>=0.2.0\n",
      "  Downloading langchain_core-0.2.0-py3-none-any.whl (307 kB)\n",
      "Collecting pydantic<3,>=1\n",
      "  Downloading pydantic-2.7.1-py3-none-any.whl (409 kB)\n",
      "Collecting aiohttp<4.0.0,>=3.8.3\n",
      "  Downloading aiohttp-3.9.5-cp38-cp38-win_amd64.whl (373 kB)\n",
      "Requirement already satisfied: typing-extensions>=4.6.0 in c:\\users\\mshib\\appdata\\roaming\\python\\python38\\site-packages (from SQLAlchemy<3,>=1.4->langchain) (4.11.0)\n",
      "Collecting greenlet!=0.4.17; platform_machine == \"aarch64\" or (platform_machine == \"ppc64le\" or (platform_machine == \"x86_64\" or (platform_machine == \"amd64\" or (platform_machine == \"AMD64\" or (platform_machine == \"win32\" or platform_machine == \"WIN32\")))))\n",
      "  Downloading greenlet-3.0.3-cp38-cp38-win_amd64.whl (290 kB)\n",
      "Collecting typing-inspect<1,>=0.4.0\n",
      "  Downloading typing_inspect-0.9.0-py3-none-any.whl (8.8 kB)\n",
      "Collecting marshmallow<4.0.0,>=3.18.0\n",
      "  Downloading marshmallow-3.21.2-py3-none-any.whl (49 kB)\n",
      "Collecting charset-normalizer<4,>=2\n",
      "  Downloading charset_normalizer-3.3.2-cp38-cp38-win_amd64.whl (99 kB)\n",
      "Collecting urllib3<3,>=1.21.1\n",
      "  Downloading urllib3-2.2.1-py3-none-any.whl (121 kB)\n",
      "Collecting idna<4,>=2.5\n",
      "  Downloading idna-3.7-py3-none-any.whl (66 kB)\n",
      "Collecting certifi>=2017.4.17\n",
      "  Downloading certifi-2024.2.2-py3-none-any.whl (163 kB)\n",
      "Collecting orjson<4.0.0,>=3.9.14\n",
      "  Downloading orjson-3.10.3-cp38-none-win_amd64.whl (138 kB)\n",
      "Collecting packaging<24.0,>=23.2\n",
      "  Downloading packaging-23.2-py3-none-any.whl (53 kB)\n",
      "Collecting jsonpatch<2.0,>=1.33\n",
      "  Downloading jsonpatch-1.33-py2.py3-none-any.whl (12 kB)\n",
      "Collecting pydantic-core==2.18.2\n",
      "  Downloading pydantic_core-2.18.2-cp38-none-win_amd64.whl (1.9 MB)\n",
      "Collecting annotated-types>=0.4.0\n",
      "  Downloading annotated_types-0.6.0-py3-none-any.whl (12 kB)\n",
      "Collecting frozenlist>=1.1.1\n",
      "  Downloading frozenlist-1.4.1-cp38-cp38-win_amd64.whl (50 kB)\n",
      "Collecting multidict<7.0,>=4.5\n",
      "  Downloading multidict-6.0.5-cp38-cp38-win_amd64.whl (28 kB)\n",
      "Collecting aiosignal>=1.1.2\n",
      "  Downloading aiosignal-1.3.1-py3-none-any.whl (7.6 kB)\n",
      "Collecting attrs>=17.3.0\n",
      "  Downloading attrs-23.2.0-py3-none-any.whl (60 kB)\n",
      "Collecting yarl<2.0,>=1.0\n",
      "  Downloading yarl-1.9.4-cp38-cp38-win_amd64.whl (77 kB)\n",
      "Collecting mypy-extensions>=0.3.0\n",
      "  Downloading mypy_extensions-1.0.0-py3-none-any.whl (4.7 kB)\n",
      "Collecting jsonpointer>=1.9\n",
      "  Downloading jsonpointer-2.4-py2.py3-none-any.whl (7.8 kB)\n",
      "Installing collected packages: greenlet, SQLAlchemy, mypy-extensions, typing-inspect, packaging, marshmallow, dataclasses-json, charset-normalizer, urllib3, idna, certifi, requests, orjson, pydantic-core, annotated-types, pydantic, langsmith, numpy, async-timeout, tenacity, jsonpointer, jsonpatch, PyYAML, langchain-core, langchain-text-splitters, frozenlist, multidict, aiosignal, attrs, yarl, aiohttp, langchain\n",
      "  Attempting uninstall: packaging\n",
      "    Found existing installation: packaging 24.0\n",
      "    Uninstalling packaging-24.0:\n",
      "      Successfully uninstalled packaging-24.0\n",
      "Successfully installed PyYAML-6.0.1 SQLAlchemy-2.0.30 aiohttp-3.9.5 aiosignal-1.3.1 annotated-types-0.6.0 async-timeout-4.0.3 attrs-23.2.0 certifi-2024.2.2 charset-normalizer-3.3.2 dataclasses-json-0.6.6 frozenlist-1.4.1 greenlet-3.0.3 idna-3.7 jsonpatch-1.33 jsonpointer-2.4 langchain-0.2.0 langchain-core-0.2.0 langchain-text-splitters-0.2.0 langsmith-0.1.59 marshmallow-3.21.2 multidict-6.0.5 mypy-extensions-1.0.0 numpy-1.24.4 orjson-3.10.3 packaging-23.2 pydantic-2.7.1 pydantic-core-2.18.2 requests-2.31.0 tenacity-8.3.0 typing-inspect-0.9.0 urllib3-2.2.1 yarl-1.9.4\n",
      "Note: you may need to restart the kernel to use updated packages.\n"
     ]
    },
    {
     "name": "stderr",
     "output_type": "stream",
     "text": [
      "WARNING: You are using pip version 20.2.1; however, version 24.0 is available.\n",
      "You should consider upgrading via the 'c:\\Users\\mshib\\AppData\\Local\\Programs\\Python\\Python38\\python.exe -m pip install --upgrade pip' command.\n"
     ]
    }
   ],
   "source": [
    "pip install langchain"
   ]
  }
 ],
 "metadata": {
  "kernelspec": {
   "display_name": "base",
   "language": "python",
   "name": "python3"
  },
  "language_info": {
   "codemirror_mode": {
    "name": "ipython",
    "version": 3
   },
   "file_extension": ".py",
   "mimetype": "text/x-python",
   "name": "python",
   "nbconvert_exporter": "python",
   "pygments_lexer": "ipython3",
   "version": "3.8.6"
  }
 },
 "nbformat": 4,
 "nbformat_minor": 2
}
